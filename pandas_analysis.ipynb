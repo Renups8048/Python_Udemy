{
 "cells": [
  {
   "cell_type": "markdown",
   "metadata": {},
   "source": [
    "# Pandas Library Practice"
   ]
  },
  {
   "cell_type": "markdown",
   "metadata": {},
   "source": [
    "HR schema data is using and the data loaded from the SQL server."
   ]
  },
  {
   "cell_type": "code",
   "execution_count": 154,
   "metadata": {},
   "outputs": [],
   "source": [
    "import pyodbc as odbc\n",
    "import pandas as pd"
   ]
  },
  {
   "cell_type": "code",
   "execution_count": 155,
   "metadata": {},
   "outputs": [],
   "source": [
    "#Database connection string\n",
    "conn = odbc.connect(\n",
    "    \"Driver={SQL Server Native Client 11.0};\"\n",
    "    \"Server=Renuka;\"\n",
    "    \"Database=Practice;\"\n",
    "    \"Trusted_Connection=yes;\"\n",
    ")"
   ]
  },
  {
   "cell_type": "code",
   "execution_count": 166,
   "metadata": {},
   "outputs": [],
   "source": [
    "#Assign the SQL query to a variable\n",
    "sql= \"select a.employee_id,a.salary,b.department_name,c.city,c.state_province,c.country_id from employees a \\\n",
    "inner join departments b \\\n",
    "on a.department_id = b.department_id \\\n",
    "inner join locations c on b.location_id = c.location_id \"#inner join regions d on c.region_id = b.region_id\"\n",
    "\n",
    "#Read the SQL to a Pandas dataframe\n",
    "df = pd.read_sql(sql, conn)"
   ]
  },
  {
   "cell_type": "code",
   "execution_count": 167,
   "metadata": {},
   "outputs": [],
   "source": [
    "#change the datatype\n",
    "df[['employee_id','salary']] = df[['employee_id','salary']].astype(int)"
   ]
  },
  {
   "cell_type": "code",
   "execution_count": 168,
   "metadata": {},
   "outputs": [
    {
     "name": "stdout",
     "output_type": "stream",
     "text": [
      "     employee_id  salary department_name     city state_province country_id\n",
      "0            200    4400  Administration  Seattle     Washington         US\n",
      "1            201   13000       Marketing  Toronto        Ontario         CA\n",
      "2            202    6000       Marketing  Toronto        Ontario         CA\n",
      "3            114   11000      Purchasing  Seattle     Washington         US\n",
      "4            115    3100      Purchasing  Seattle     Washington         US\n",
      "..           ...     ...             ...      ...            ...        ...\n",
      "101          111    7700         Finance  Seattle     Washington         US\n",
      "102          112    7800         Finance  Seattle     Washington         US\n",
      "103          113    6900         Finance  Seattle     Washington         US\n",
      "104          205   12000      Accounting  Seattle     Washington         US\n",
      "105          206    8300      Accounting  Seattle     Washington         US\n",
      "\n",
      "[106 rows x 6 columns]\n"
     ]
    }
   ],
   "source": [
    "print(df)"
   ]
  },
  {
   "cell_type": "code",
   "execution_count": 180,
   "metadata": {},
   "outputs": [],
   "source": [
    "# sorting dataframe with descending order and display the null values at first \n",
    "df.sort_values(\"employee_id\", inplace = True,ascending=False,na_position='first') "
   ]
  },
  {
   "cell_type": "code",
   "execution_count": 181,
   "metadata": {},
   "outputs": [
    {
     "data": {
      "text/html": [
       "<div>\n",
       "<style scoped>\n",
       "    .dataframe tbody tr th:only-of-type {\n",
       "        vertical-align: middle;\n",
       "    }\n",
       "\n",
       "    .dataframe tbody tr th {\n",
       "        vertical-align: top;\n",
       "    }\n",
       "\n",
       "    .dataframe thead th {\n",
       "        text-align: right;\n",
       "    }\n",
       "</style>\n",
       "<table border=\"1\" class=\"dataframe\">\n",
       "  <thead>\n",
       "    <tr style=\"text-align: right;\">\n",
       "      <th></th>\n",
       "      <th>employee_id</th>\n",
       "      <th>salary</th>\n",
       "      <th>department_name</th>\n",
       "      <th>city</th>\n",
       "      <th>state_province</th>\n",
       "      <th>country_id</th>\n",
       "    </tr>\n",
       "  </thead>\n",
       "  <tbody>\n",
       "    <tr>\n",
       "      <th>105</th>\n",
       "      <td>206</td>\n",
       "      <td>8300</td>\n",
       "      <td>Accounting</td>\n",
       "      <td>Seattle</td>\n",
       "      <td>Washington</td>\n",
       "      <td>US</td>\n",
       "    </tr>\n",
       "    <tr>\n",
       "      <th>104</th>\n",
       "      <td>205</td>\n",
       "      <td>12000</td>\n",
       "      <td>Accounting</td>\n",
       "      <td>Seattle</td>\n",
       "      <td>Washington</td>\n",
       "      <td>US</td>\n",
       "    </tr>\n",
       "    <tr>\n",
       "      <th>60</th>\n",
       "      <td>204</td>\n",
       "      <td>10000</td>\n",
       "      <td>Public Relations</td>\n",
       "      <td>Munich</td>\n",
       "      <td>Bavaria</td>\n",
       "      <td>DE</td>\n",
       "    </tr>\n",
       "    <tr>\n",
       "      <th>9</th>\n",
       "      <td>203</td>\n",
       "      <td>6500</td>\n",
       "      <td>Human Resources</td>\n",
       "      <td>London</td>\n",
       "      <td>None</td>\n",
       "      <td>UK</td>\n",
       "    </tr>\n",
       "    <tr>\n",
       "      <th>2</th>\n",
       "      <td>202</td>\n",
       "      <td>6000</td>\n",
       "      <td>Marketing</td>\n",
       "      <td>Toronto</td>\n",
       "      <td>Ontario</td>\n",
       "      <td>CA</td>\n",
       "    </tr>\n",
       "  </tbody>\n",
       "</table>\n",
       "</div>"
      ],
      "text/plain": [
       "     employee_id  salary   department_name     city state_province country_id\n",
       "105          206    8300        Accounting  Seattle     Washington         US\n",
       "104          205   12000        Accounting  Seattle     Washington         US\n",
       "60           204   10000  Public Relations   Munich        Bavaria         DE\n",
       "9            203    6500   Human Resources   London           None         UK\n",
       "2            202    6000         Marketing  Toronto        Ontario         CA"
      ]
     },
     "execution_count": 181,
     "metadata": {},
     "output_type": "execute_result"
    }
   ],
   "source": [
    "df.head()"
   ]
  },
  {
   "cell_type": "code",
   "execution_count": 182,
   "metadata": {},
   "outputs": [],
   "source": [
    "#group_by function using pandas\n",
    "gp_by_country = df.groupby('country_id').count()[['employee_id']]"
   ]
  },
  {
   "cell_type": "code",
   "execution_count": 183,
   "metadata": {},
   "outputs": [
    {
     "name": "stdout",
     "output_type": "stream",
     "text": [
      "            employee_id\n",
      "country_id             \n",
      "CA                    2\n",
      "DE                    1\n",
      "UK                   35\n",
      "US                   68\n"
     ]
    }
   ],
   "source": [
    "print(gp_by_country)"
   ]
  },
  {
   "cell_type": "code",
   "execution_count": 184,
   "metadata": {},
   "outputs": [],
   "source": [
    "#group_by function using pandas multiple variables\n",
    "gp_by_cntry_state_city = df.groupby(['country_id','state_province','city']).count()[['employee_id']]"
   ]
  },
  {
   "cell_type": "code",
   "execution_count": 185,
   "metadata": {},
   "outputs": [
    {
     "name": "stdout",
     "output_type": "stream",
     "text": [
      "                                               employee_id\n",
      "country_id state_province city                            \n",
      "CA         Ontario        Toronto                        2\n",
      "DE         Bavaria        Munich                         1\n",
      "UK         Oxford         Oxford                        34\n",
      "US         California     South San Francisco           45\n",
      "           Texas          Southlake                      5\n",
      "           Washington     Seattle                       18\n",
      "Total Number of employees : employee_id    105\n",
      "dtype: int64\n"
     ]
    }
   ],
   "source": [
    "print(gp_by_cntry_state_city)\n",
    "#sum is to check the grouped values are correct on not\n",
    "total = 'Total Number of employees : ' + str(gp_by_cntry_state_city.sum())\n",
    "print(total)"
   ]
  },
  {
   "cell_type": "code",
   "execution_count": 187,
   "metadata": {},
   "outputs": [
    {
     "data": {
      "text/html": [
       "<div>\n",
       "<style scoped>\n",
       "    .dataframe tbody tr th:only-of-type {\n",
       "        vertical-align: middle;\n",
       "    }\n",
       "\n",
       "    .dataframe tbody tr th {\n",
       "        vertical-align: top;\n",
       "    }\n",
       "\n",
       "    .dataframe thead th {\n",
       "        text-align: right;\n",
       "    }\n",
       "</style>\n",
       "<table border=\"1\" class=\"dataframe\">\n",
       "  <thead>\n",
       "    <tr style=\"text-align: right;\">\n",
       "      <th></th>\n",
       "      <th>employee_id</th>\n",
       "      <th>salary</th>\n",
       "      <th>department_name</th>\n",
       "      <th>city</th>\n",
       "      <th>state_province</th>\n",
       "      <th>country_id</th>\n",
       "    </tr>\n",
       "  </thead>\n",
       "  <tbody>\n",
       "    <tr>\n",
       "      <th>9</th>\n",
       "      <td>203</td>\n",
       "      <td>6500</td>\n",
       "      <td>Human Resources</td>\n",
       "      <td>London</td>\n",
       "      <td>None</td>\n",
       "      <td>UK</td>\n",
       "    </tr>\n",
       "  </tbody>\n",
       "</table>\n",
       "</div>"
      ],
      "text/plain": [
       "   employee_id  salary  department_name    city state_province country_id\n",
       "9          203    6500  Human Resources  London           None         UK"
      ]
     },
     "execution_count": 187,
     "metadata": {},
     "output_type": "execute_result"
    }
   ],
   "source": [
    "#filtering the data from the dataframe\n",
    "#df.loc[(df['country_id'] == 'US') & (df['city']=='Seattle') & (df['employee_id'] .isin([114,123,111]))]\n",
    "df.loc[(df['city']=='Munich')]\n",
    "#null value condition None is nothing but null in python \n",
    "df.loc[(df['state_province'].isnull())]"
   ]
  },
  {
   "cell_type": "code",
   "execution_count": null,
   "metadata": {},
   "outputs": [],
   "source": []
  }
 ],
 "metadata": {
  "kernelspec": {
   "display_name": "Python 3",
   "language": "python",
   "name": "python3"
  },
  "language_info": {
   "codemirror_mode": {
    "name": "ipython",
    "version": 3
   },
   "file_extension": ".py",
   "mimetype": "text/x-python",
   "name": "python",
   "nbconvert_exporter": "python",
   "pygments_lexer": "ipython3",
   "version": "3.7.7"
  }
 },
 "nbformat": 4,
 "nbformat_minor": 4
}
